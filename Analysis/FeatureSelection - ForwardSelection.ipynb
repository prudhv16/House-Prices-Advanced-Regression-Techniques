{
 "cells": [
  {
   "cell_type": "code",
   "execution_count": 1,
   "metadata": {
    "collapsed": false
   },
   "outputs": [],
   "source": [
    "#importing necessary packages\n",
    "import sklearn\n",
    "import numpy as np\n",
    "import pandas as pd\n",
    "import seaborn as sns\n",
    "import matplotlib as mpl\n",
    "from sklearn import decomposition\n",
    "%matplotlib inline\n",
    "sns.set(color_codes=True)"
   ]
  },
  {
   "cell_type": "code",
   "execution_count": 3,
   "metadata": {
    "collapsed": false,
    "scrolled": true
   },
   "outputs": [
    {
     "data": {
      "text/html": [
       "<div>\n",
       "<table border=\"1\" class=\"dataframe\">\n",
       "  <thead>\n",
       "    <tr style=\"text-align: right;\">\n",
       "      <th></th>\n",
       "      <th>MSSubClass</th>\n",
       "      <th>MSZoning</th>\n",
       "      <th>LotFrontage</th>\n",
       "      <th>LotArea</th>\n",
       "      <th>Street</th>\n",
       "      <th>Alley</th>\n",
       "      <th>LotShape</th>\n",
       "      <th>LandContour</th>\n",
       "      <th>Utilities</th>\n",
       "      <th>LotConfig</th>\n",
       "      <th>...</th>\n",
       "      <th>ScreenPorch</th>\n",
       "      <th>PoolArea</th>\n",
       "      <th>PoolQC</th>\n",
       "      <th>Fence</th>\n",
       "      <th>MiscFeature</th>\n",
       "      <th>MiscVal</th>\n",
       "      <th>MoSold</th>\n",
       "      <th>YrSold</th>\n",
       "      <th>SaleType</th>\n",
       "      <th>SaleCondition</th>\n",
       "    </tr>\n",
       "    <tr>\n",
       "      <th>Id</th>\n",
       "      <th></th>\n",
       "      <th></th>\n",
       "      <th></th>\n",
       "      <th></th>\n",
       "      <th></th>\n",
       "      <th></th>\n",
       "      <th></th>\n",
       "      <th></th>\n",
       "      <th></th>\n",
       "      <th></th>\n",
       "      <th></th>\n",
       "      <th></th>\n",
       "      <th></th>\n",
       "      <th></th>\n",
       "      <th></th>\n",
       "      <th></th>\n",
       "      <th></th>\n",
       "      <th></th>\n",
       "      <th></th>\n",
       "      <th></th>\n",
       "      <th></th>\n",
       "    </tr>\n",
       "  </thead>\n",
       "  <tbody>\n",
       "    <tr>\n",
       "      <th>1</th>\n",
       "      <td>60</td>\n",
       "      <td>RL</td>\n",
       "      <td>65.0</td>\n",
       "      <td>8450</td>\n",
       "      <td>Pave</td>\n",
       "      <td>NaN</td>\n",
       "      <td>Reg</td>\n",
       "      <td>Lvl</td>\n",
       "      <td>AllPub</td>\n",
       "      <td>Inside</td>\n",
       "      <td>...</td>\n",
       "      <td>0</td>\n",
       "      <td>0</td>\n",
       "      <td>NaN</td>\n",
       "      <td>NaN</td>\n",
       "      <td>NaN</td>\n",
       "      <td>0</td>\n",
       "      <td>2</td>\n",
       "      <td>2008</td>\n",
       "      <td>WD</td>\n",
       "      <td>Normal</td>\n",
       "    </tr>\n",
       "    <tr>\n",
       "      <th>2</th>\n",
       "      <td>20</td>\n",
       "      <td>RL</td>\n",
       "      <td>80.0</td>\n",
       "      <td>9600</td>\n",
       "      <td>Pave</td>\n",
       "      <td>NaN</td>\n",
       "      <td>Reg</td>\n",
       "      <td>Lvl</td>\n",
       "      <td>AllPub</td>\n",
       "      <td>FR2</td>\n",
       "      <td>...</td>\n",
       "      <td>0</td>\n",
       "      <td>0</td>\n",
       "      <td>NaN</td>\n",
       "      <td>NaN</td>\n",
       "      <td>NaN</td>\n",
       "      <td>0</td>\n",
       "      <td>5</td>\n",
       "      <td>2007</td>\n",
       "      <td>WD</td>\n",
       "      <td>Normal</td>\n",
       "    </tr>\n",
       "    <tr>\n",
       "      <th>3</th>\n",
       "      <td>60</td>\n",
       "      <td>RL</td>\n",
       "      <td>68.0</td>\n",
       "      <td>11250</td>\n",
       "      <td>Pave</td>\n",
       "      <td>NaN</td>\n",
       "      <td>IR1</td>\n",
       "      <td>Lvl</td>\n",
       "      <td>AllPub</td>\n",
       "      <td>Inside</td>\n",
       "      <td>...</td>\n",
       "      <td>0</td>\n",
       "      <td>0</td>\n",
       "      <td>NaN</td>\n",
       "      <td>NaN</td>\n",
       "      <td>NaN</td>\n",
       "      <td>0</td>\n",
       "      <td>9</td>\n",
       "      <td>2008</td>\n",
       "      <td>WD</td>\n",
       "      <td>Normal</td>\n",
       "    </tr>\n",
       "    <tr>\n",
       "      <th>4</th>\n",
       "      <td>70</td>\n",
       "      <td>RL</td>\n",
       "      <td>60.0</td>\n",
       "      <td>9550</td>\n",
       "      <td>Pave</td>\n",
       "      <td>NaN</td>\n",
       "      <td>IR1</td>\n",
       "      <td>Lvl</td>\n",
       "      <td>AllPub</td>\n",
       "      <td>Corner</td>\n",
       "      <td>...</td>\n",
       "      <td>0</td>\n",
       "      <td>0</td>\n",
       "      <td>NaN</td>\n",
       "      <td>NaN</td>\n",
       "      <td>NaN</td>\n",
       "      <td>0</td>\n",
       "      <td>2</td>\n",
       "      <td>2006</td>\n",
       "      <td>WD</td>\n",
       "      <td>Abnorml</td>\n",
       "    </tr>\n",
       "    <tr>\n",
       "      <th>5</th>\n",
       "      <td>60</td>\n",
       "      <td>RL</td>\n",
       "      <td>84.0</td>\n",
       "      <td>14260</td>\n",
       "      <td>Pave</td>\n",
       "      <td>NaN</td>\n",
       "      <td>IR1</td>\n",
       "      <td>Lvl</td>\n",
       "      <td>AllPub</td>\n",
       "      <td>FR2</td>\n",
       "      <td>...</td>\n",
       "      <td>0</td>\n",
       "      <td>0</td>\n",
       "      <td>NaN</td>\n",
       "      <td>NaN</td>\n",
       "      <td>NaN</td>\n",
       "      <td>0</td>\n",
       "      <td>12</td>\n",
       "      <td>2008</td>\n",
       "      <td>WD</td>\n",
       "      <td>Normal</td>\n",
       "    </tr>\n",
       "  </tbody>\n",
       "</table>\n",
       "<p>5 rows × 79 columns</p>\n",
       "</div>"
      ],
      "text/plain": [
       "   MSSubClass MSZoning  LotFrontage  LotArea Street Alley LotShape  \\\n",
       "Id                                                                   \n",
       "1          60       RL         65.0     8450   Pave   NaN      Reg   \n",
       "2          20       RL         80.0     9600   Pave   NaN      Reg   \n",
       "3          60       RL         68.0    11250   Pave   NaN      IR1   \n",
       "4          70       RL         60.0     9550   Pave   NaN      IR1   \n",
       "5          60       RL         84.0    14260   Pave   NaN      IR1   \n",
       "\n",
       "   LandContour Utilities LotConfig      ...       ScreenPorch PoolArea PoolQC  \\\n",
       "Id                                      ...                                     \n",
       "1          Lvl    AllPub    Inside      ...                 0        0    NaN   \n",
       "2          Lvl    AllPub       FR2      ...                 0        0    NaN   \n",
       "3          Lvl    AllPub    Inside      ...                 0        0    NaN   \n",
       "4          Lvl    AllPub    Corner      ...                 0        0    NaN   \n",
       "5          Lvl    AllPub       FR2      ...                 0        0    NaN   \n",
       "\n",
       "   Fence MiscFeature MiscVal  MoSold  YrSold  SaleType  SaleCondition  \n",
       "Id                                                                     \n",
       "1    NaN         NaN       0       2    2008        WD         Normal  \n",
       "2    NaN         NaN       0       5    2007        WD         Normal  \n",
       "3    NaN         NaN       0       9    2008        WD         Normal  \n",
       "4    NaN         NaN       0       2    2006        WD        Abnorml  \n",
       "5    NaN         NaN       0      12    2008        WD         Normal  \n",
       "\n",
       "[5 rows x 79 columns]"
      ]
     },
     "execution_count": 3,
     "metadata": {},
     "output_type": "execute_result"
    }
   ],
   "source": [
    "train_data = pd.read_csv(\"train.csv\",index_col=0)\n",
    "test_data = pd.read_csv(\"test.csv\",index_col=0)\n",
    "y_train = train_data[\"SalePrice\"]\n",
    "y_train = np.log1p(y_train)\n",
    "#y_test = test_data[\"\"]\n",
    "del train_data[\"SalePrice\"]\n",
    "train_data['MSSubClass'] = train_data['MSSubClass'].astype(basestring)\n",
    "data = pd.concat((train_data, test_data), axis=0)\n",
    "data.head()"
   ]
  },
  {
   "cell_type": "code",
   "execution_count": 7,
   "metadata": {
    "collapsed": false
   },
   "outputs": [
    {
     "data": {
      "text/plain": [
       "<matplotlib.axes._subplots.AxesSubplot at 0xbda37f0>"
      ]
     },
     "execution_count": 7,
     "metadata": {},
     "output_type": "execute_result"
    },
    {
     "data": {
      "image/png": "[encoded data removed]",
      "text/plain": [
       "<matplotlib.figure.Figure at 0xcd55c18>"
      ]
     },
     "metadata": {},
     "output_type": "display_data"
    }
   ],
   "source": [
    "y_train = np.log1p(y_train)\n",
    "sns.distplot(y_train)"
   ]
  },
  {
   "cell_type": "code",
   "execution_count": 3,
   "metadata": {
    "collapsed": false
   },
   "outputs": [],
   "source": [
    "numeric_cols = data.columns[data.dtypes != 'object']\n",
    "nonNumeric_cols = data.columns[data.dtypes == 'object']\n",
    "allColumns = data.columns"
   ]
  },
  {
   "cell_type": "code",
   "execution_count": 4,
   "metadata": {
    "collapsed": false
   },
   "outputs": [
    {
     "data": {
      "text/plain": [
       "Index([u'MSSubClass', u'MSZoning', u'Street', u'Alley', u'LotShape',\n",
       "       u'LandContour', u'Utilities', u'LotConfig', u'LandSlope',\n",
       "       u'Neighborhood', u'Condition1', u'Condition2', u'BldgType',\n",
       "       u'HouseStyle', u'RoofStyle', u'RoofMatl', u'Exterior1st',\n",
       "       u'Exterior2nd', u'MasVnrType', u'ExterQual', u'ExterCond',\n",
       "       u'Foundation', u'BsmtQual', u'BsmtCond', u'BsmtExposure',\n",
       "       u'BsmtFinType1', u'BsmtFinType2', u'Heating', u'HeatingQC',\n",
       "       u'CentralAir', u'Electrical', u'KitchenQual', u'Functional',\n",
       "       u'FireplaceQu', u'GarageType', u'GarageFinish', u'GarageQual',\n",
       "       u'GarageCond', u'PavedDrive', u'PoolQC', u'Fence', u'MiscFeature',\n",
       "       u'SaleType', u'SaleCondition'],\n",
       "      dtype='object')"
      ]
     },
     "execution_count": 4,
     "metadata": {},
     "output_type": "execute_result"
    }
   ],
   "source": [
    "nonNumeric_cols\n",
    "numeric_cols\n",
    "allColumns\n",
    "nonNumeric_cols"
   ]
  },
  {
   "cell_type": "code",
   "execution_count": 5,
   "metadata": {
    "collapsed": false
   },
   "outputs": [],
   "source": [
    "def getdummies(df,col):\n",
    "    dummy = pd.get_dummies(df[col],prefix=col)\n",
    "    del df[col]\n",
    "    return df.join(dummy)"
   ]
  },
  {
   "cell_type": "code",
   "execution_count": 7,
   "metadata": {
    "collapsed": false,
    "scrolled": true
   },
   "outputs": [
    {
     "name": "stdout",
     "output_type": "stream",
     "text": [
      "10\n"
     ]
    },
    {
     "data": {
      "text/html": [
       "<div>\n",
       "<table border=\"1\" class=\"dataframe\">\n",
       "  <thead>\n",
       "    <tr style=\"text-align: right;\">\n",
       "      <th></th>\n",
       "      <th>MSSubClass</th>\n",
       "      <th>LotShape</th>\n",
       "      <th>LandContour</th>\n",
       "      <th>Utilities</th>\n",
       "      <th>LotConfig</th>\n",
       "      <th>LandSlope</th>\n",
       "      <th>Neighborhood</th>\n",
       "      <th>YearBuilt</th>\n",
       "      <th>MiscVal</th>\n",
       "      <th>SaleType</th>\n",
       "    </tr>\n",
       "    <tr>\n",
       "      <th>Id</th>\n",
       "      <th></th>\n",
       "      <th></th>\n",
       "      <th></th>\n",
       "      <th></th>\n",
       "      <th></th>\n",
       "      <th></th>\n",
       "      <th></th>\n",
       "      <th></th>\n",
       "      <th></th>\n",
       "      <th></th>\n",
       "    </tr>\n",
       "  </thead>\n",
       "  <tbody>\n",
       "    <tr>\n",
       "      <th>1</th>\n",
       "      <td>60</td>\n",
       "      <td>Reg</td>\n",
       "      <td>Lvl</td>\n",
       "      <td>AllPub</td>\n",
       "      <td>Inside</td>\n",
       "      <td>Gtl</td>\n",
       "      <td>CollgCr</td>\n",
       "      <td>2003</td>\n",
       "      <td>0</td>\n",
       "      <td>WD</td>\n",
       "    </tr>\n",
       "    <tr>\n",
       "      <th>2</th>\n",
       "      <td>20</td>\n",
       "      <td>Reg</td>\n",
       "      <td>Lvl</td>\n",
       "      <td>AllPub</td>\n",
       "      <td>FR2</td>\n",
       "      <td>Gtl</td>\n",
       "      <td>Veenker</td>\n",
       "      <td>1976</td>\n",
       "      <td>0</td>\n",
       "      <td>WD</td>\n",
       "    </tr>\n",
       "    <tr>\n",
       "      <th>3</th>\n",
       "      <td>60</td>\n",
       "      <td>IR1</td>\n",
       "      <td>Lvl</td>\n",
       "      <td>AllPub</td>\n",
       "      <td>Inside</td>\n",
       "      <td>Gtl</td>\n",
       "      <td>CollgCr</td>\n",
       "      <td>2001</td>\n",
       "      <td>0</td>\n",
       "      <td>WD</td>\n",
       "    </tr>\n",
       "    <tr>\n",
       "      <th>4</th>\n",
       "      <td>70</td>\n",
       "      <td>IR1</td>\n",
       "      <td>Lvl</td>\n",
       "      <td>AllPub</td>\n",
       "      <td>Corner</td>\n",
       "      <td>Gtl</td>\n",
       "      <td>Crawfor</td>\n",
       "      <td>1915</td>\n",
       "      <td>0</td>\n",
       "      <td>WD</td>\n",
       "    </tr>\n",
       "    <tr>\n",
       "      <th>5</th>\n",
       "      <td>60</td>\n",
       "      <td>IR1</td>\n",
       "      <td>Lvl</td>\n",
       "      <td>AllPub</td>\n",
       "      <td>FR2</td>\n",
       "      <td>Gtl</td>\n",
       "      <td>NoRidge</td>\n",
       "      <td>2000</td>\n",
       "      <td>0</td>\n",
       "      <td>WD</td>\n",
       "    </tr>\n",
       "  </tbody>\n",
       "</table>\n",
       "</div>"
      ],
      "text/plain": [
       "   MSSubClass LotShape LandContour Utilities LotConfig LandSlope Neighborhood  \\\n",
       "Id                                                                              \n",
       "1          60      Reg         Lvl    AllPub    Inside       Gtl      CollgCr   \n",
       "2          20      Reg         Lvl    AllPub       FR2       Gtl      Veenker   \n",
       "3          60      IR1         Lvl    AllPub    Inside       Gtl      CollgCr   \n",
       "4          70      IR1         Lvl    AllPub    Corner       Gtl      Crawfor   \n",
       "5          60      IR1         Lvl    AllPub       FR2       Gtl      NoRidge   \n",
       "\n",
       "    YearBuilt  MiscVal SaleType  \n",
       "Id                               \n",
       "1        2003        0       WD  \n",
       "2        1976        0       WD  \n",
       "3        2001        0       WD  \n",
       "4        1915        0       WD  \n",
       "5        2000        0       WD  "
      ]
     },
     "execution_count": 7,
     "metadata": {},
     "output_type": "execute_result"
    }
   ],
   "source": [
    "#initial columns.\n",
    "\n",
    "data = pd.concat((train_data, test_data), axis=0)\n",
    "sampledata = data.copy(deep=True)\n",
    "#sampledata['TotFlrSF'] = data['1stFlrSF'] + data['2ndFlrSF']\n",
    "\n",
    "for col in data.columns:\n",
    "    if col not in ['LotConfig','LandSlope','LotShape','Utilities','LandContour','YearBuilt','SaleType','Neighborhood',\n",
    "                   'MSSubClass','MiscVal']:\n",
    "    #if col not in  ['LotConfig','Utilities','MSSubClass','MSZoning','Alley','LotShape','LotFrontage','LotArea','LandSlope','Neighborhood','OverallCond','LandContour',\n",
    "    #               'Condition1','Street','Condition2']:\n",
    "        del sampledata[col]       \n",
    "'''\n",
    "data['TotFlrSF'] = data['1stFlrSF'] + data['2ndFlrSF']\n",
    "data['TotFlrSF'] = data['OpenPorchSF'] + data['EnclosedPorch'] + data['3SsnPorch'] + data['ScreenPorch']\n",
    "for col in ['1stFlrSF','2ndFlrSF','OpenPorchSF','EnclosedPorch','3SsnPorch','ScreenPorch']:\n",
    "    del data[col]\n",
    "'''\n",
    "#for col in sampledata.columns:\n",
    "#    print sampledata[col].dtype\n",
    "print len(sampledata.columns)\n",
    "sampledata.head()\n",
    "#print sampledata.columns\n"
   ]
  },
  {
   "cell_type": "code",
   "execution_count": 8,
   "metadata": {
    "collapsed": false
   },
   "outputs": [
    {
     "name": "stdout",
     "output_type": "stream",
     "text": [
      "MSSubClass      0\n",
      "LotShape        0\n",
      "LandContour     0\n",
      "Utilities       2\n",
      "LotConfig       0\n",
      "LandSlope       0\n",
      "Neighborhood    0\n",
      "YearBuilt       0\n",
      "MiscVal         0\n",
      "SaleType        1\n",
      "dtype: int64\n"
     ]
    }
   ],
   "source": [
    "print sampledata.isnull().sum()"
   ]
  },
  {
   "cell_type": "code",
   "execution_count": 462,
   "metadata": {
    "collapsed": false
   },
   "outputs": [],
   "source": [
    "meansampledata = sampledata.mean()\n",
    "sampledata = sampledata.fillna(meansampledata)"
   ]
  },
  {
   "cell_type": "code",
   "execution_count": 463,
   "metadata": {
    "collapsed": false
   },
   "outputs": [
    {
     "name": "stdout",
     "output_type": "stream",
     "text": [
      "MSSubClass      0\n",
      "LotShape        0\n",
      "LandContour     0\n",
      "Utilities       2\n",
      "LotConfig       0\n",
      "LandSlope       0\n",
      "Neighborhood    0\n",
      "YearBuilt       0\n",
      "MiscVal         0\n",
      "SaleType        1\n",
      "dtype: int64\n"
     ]
    }
   ],
   "source": [
    "print sampledata.isnull().sum()"
   ]
  },
  {
   "cell_type": "code",
   "execution_count": 470,
   "metadata": {
    "collapsed": false
   },
   "outputs": [],
   "source": [
    "#Removing missing values and relacing with mean values in all columns.\n",
    "meancoldata = data.mean()\n",
    "#meancoldata.head()\n",
    "data = data.fillna(meancoldata)"
   ]
  },
  {
   "cell_type": "code",
   "execution_count": null,
   "metadata": {
    "collapsed": true
   },
   "outputs": [],
   "source": [
    "#for col in allColumns:\n",
    "#    sampledata[col] = data[col]\n",
    "#    if sampledata[col].dtype == 'object':\n",
    "#        sampledata = getdummies(sampledata,col)\n",
    "    \n",
    "#sampledata.head()"
   ]
  },
  {
   "cell_type": "code",
   "execution_count": 287,
   "metadata": {
    "collapsed": true
   },
   "outputs": [],
   "source": [
    "#Normalizing numeric columns\n",
    "from sklearn.preprocessing import MinMaxScaler\n",
    "scalar = MinMaxScaler()"
   ]
  },
  {
   "cell_type": "code",
   "execution_count": 200,
   "metadata": {
    "collapsed": false
   },
   "outputs": [],
   "source": [
    "#from sklearn import grid_search\n",
    "from sklearn import linear_model\n",
    "linreg = linear_model.LinearRegression(fit_intercept=True,copy_X=True,n_jobs=-1)\n",
    "from sklearn.cross_validation import StratifiedKFold\n",
    "from sklearn.metrics import mean_squared_error\n",
    "from math import sqrt\n",
    "#parameters = {}\n",
    "#reg = grid_search.GridSearchCV(reg, parameters)"
   ]
  },
  {
   "cell_type": "code",
   "execution_count": 466,
   "metadata": {
    "collapsed": false
   },
   "outputs": [
    {
     "name": "stdout",
     "output_type": "stream",
     "text": [
      "{'MasVnrType': 21203.841209230064, 'BsmtFullBath': 278365.95370998955, 'GarageQual': 29843.432647608501, 'Exterior1st': 140.09220919668354, 'GarageFinish': 47731.877676851407, 'GarageYrBlt': 114943.1736982703, 'HalfBath': 106591.42880040179, 'OverallCond': 334048.22760523518, 'LotArea': 0.22695332659741441, 'Fence': 189006.90428994535, 'Electrical': 45634.126664084368, 'BsmtQual': 2205.2413357541463, 'HouseStyle': 145200.53563561724, 'GrLivArea': 27362.586712758861, 'YearRemodAdd': 80631.991278474758, 'MasVnrArea': 86723.692836690083, 'Foundation': 164325.04848477832, 'GarageType': 106384.10950642875, 'BsmtCond': 140798.80020818464, 'HeatingQC': 54670.904058167805, 'LotFrontage': 0.23190469855617665, 'CentralAir': 6.7365248371125928, 'BsmtExposure': 224883.85259032174, 'OverallQual': 115.62662037132846, 'KitchenAbvGr': 46947.8261627178, 'BsmtFinSF1': 553504.27332623373, 'MoSold': 28.641087028125487, 'BsmtHalfBath': 68719.843415289812, 'TotalBsmtSF': 143341.03173354751, 'BsmtFinSF2': 171818.20483493007, 'TotRmsAbvGrd': 60794.261466309588, 'MiscFeature': 40.241781758019776, 'PavedDrive': 35851.533911107632, 'BsmtUnfSF': 49258.753463687186, 'FullBath': 33566.602798739696, 'YrSold': 6.8928427897301932, 'MSZoning': 0.23350047472571514, 'Exterior2nd': 134048.7711379586, 'Heating': 76942.58992826179, 'RoofMatl': 249066.13711909181, 'PoolQC': 159.10087921834253, 'WoodDeckSF': 25355.258244502511, 'FireplaceQu': 33732.214624726505, 'KitchenQual': 387.03194936738203, 'BsmtFinType2': 93536.159079411023, 'BsmtFinType1': 113453.35697654748, 'Condition2': 329.68296290358387, 'Condition1': 2.3953353830181592, 'GarageCond': 104613.13432797043, 'PoolArea': 26661.999122750025, 'TotFlrSF': 16.823351536111677, 'Fireplaces': 48197.432952371528, 'BedroomAbvGr': 121729.1326032106, 'SaleCondition': 0.57107338180194978, 'ExterCond': 265948.84218019602, 'ExterQual': 89809.671711448609, 'Functional': 17243.344480001782, 'Alley': 0.22504151167293554, 'RoofStyle': 32135.357155963848, 'Street': 150.83850496901292, 'LowQualFinSF': 156579.84918125841, 'GarageArea': 162827.70217766723, 'BldgType': 136369.8465876769, 'GarageCars': 182837.33683029967}\n"
     ]
    }
   ],
   "source": [
    "import warnings\n",
    "%config InlineBackend.figure_format = 'png' #set 'png' here when working on notebook\n",
    "warnings.filterwarnings('ignore')\n",
    "#Replacing NAN in numerical columns\n",
    "\n",
    "\n",
    "subsampledata = sampledata.copy(deep=True)\n",
    "#dont run for initial column\n",
    "toterror = {}\n",
    "for col in allColumns:\n",
    "    if col not in sampledata.columns:\n",
    "        subsampledata[col] = data[col]\n",
    "        #print sampledata.head()\n",
    "        #numeric_cols = data.columns[data.dtypes != 'object']\n",
    "        for sampcol in subsampledata.columns:\n",
    "            #print sampcol\n",
    "            #print subsampledata.head()\n",
    "            if subsampledata[sampcol].dtype == 'object':\n",
    "                subsampledata = getdummies(subsampledata,sampcol)\n",
    "            #elif subsampledata[sampcol].dtype == 'int64' or subsampledata[sampcol].dtype == 'float64':\n",
    "            #print subsampledata[col].head()\n",
    "            #    subsampledata[sampcol] = scalar.fit_transform(subsampledata[sampcol])\n",
    "            #print subsampledata[col].head()\n",
    "        #print subsampledata.head()\n",
    "        #for col in subsampledata.columns:\n",
    "        #    print subsampledata[col].dtype,\n",
    "        #print \n",
    "        #print y_train.dtype\n",
    "        X_train = subsampledata[:train_data.shape[0]]\n",
    "        #print X_train.head()\n",
    "        #X_test = subsampledata[train_data.shape[0]:]\n",
    "        skf = StratifiedKFold(y_train, n_folds=10,shuffle=True, random_state=None)\n",
    "        n = 1\n",
    "        locerror = []\n",
    "        for train_index,test_index in skf:\n",
    "            #print n\n",
    "            n += 1\n",
    "            #try:\n",
    "            #print sampX_train.head()\n",
    "            sampX_train, sampX_test = X_train.iloc[train_index], X_train.iloc[test_index]\n",
    "            sampy_train, sampy_test = y_train.iloc[train_index], y_train.iloc[test_index]\n",
    "            linreg.fit(sampX_train,sampy_train)\n",
    "            y_pred = linreg.predict(sampX_test)\n",
    "            #locerror.append((np.mean((linreg.predict(sampX_test) - sampy_test) ** 2))**0.5)\n",
    "            locerror.append(sqrt(mean_squared_error(y_pred, sampy_test)))\n",
    "            #except:\n",
    "            ##    print train_index,test_index\n",
    "            #    break\n",
    "        #print locerror\n",
    "        #print error\n",
    "        #print col,locerror\n",
    "        toterror[col] = np.mean(locerror)\n",
    "        \n",
    "print toterror"
   ]
  },
  {
   "cell_type": "code",
   "execution_count": 467,
   "metadata": {
    "collapsed": false,
    "scrolled": true
   },
   "outputs": [
    {
     "name": "stdout",
     "output_type": "stream",
     "text": [
      "Alley : 0.225041511673\n"
     ]
    }
   ],
   "source": [
    "col = min(toterror,key=toterror.get)\n",
    "print col+ \":\",toterror[col]"
   ]
  },
  {
   "cell_type": "code",
   "execution_count": 296,
   "metadata": {
    "collapsed": false
   },
   "outputs": [
    {
     "data": {
      "text/plain": [
       "'\\n\\nLotArea : 67616.9497448\\nLandSlope : 3.80920254924e+13\\nNeighborhood : 1.38848911555e+12\\nOverallCond : ??\\nLandContour : 2.32520685722e+12\\n'"
      ]
     },
     "execution_count": 296,
     "metadata": {},
     "output_type": "execute_result"
    }
   ],
   "source": [
    "'''\n",
    "\n",
    "LotArea : 67616.9497448\n",
    "LandSlope : 3.80920254924e+13\n",
    "Neighborhood : 1.38848911555e+12\n",
    "OverallCond : ??\n",
    "LandContour : 2.32520685722e+12\n",
    "Condition1 : 188263320109.0\n",
    "Street :  155331845927.0\n",
    "Condition2 : 5.54837779491e+12\n",
    "WoodDeckSF : 2.60291184848e+14\n",
    "\n",
    "Observation :- error is varying a lot ??\n",
    "check to see if any issue in our rmse \n",
    "'''"
   ]
  },
  {
   "cell_type": "code",
   "execution_count": null,
   "metadata": {
    "collapsed": true
   },
   "outputs": [],
   "source": [
    "#Dummy variable creation using pd.getdummies\n",
    "#def getdummies(df,col):\n",
    "#    dummy = pd.get_dummies(df[col],prefix=col)\n",
    "#    del df[col]\n",
    "#    return df.join(dummy)"
   ]
  },
  {
   "cell_type": "code",
   "execution_count": 509,
   "metadata": {
    "collapsed": false
   },
   "outputs": [],
   "source": [
    "meancoldata = data.mean()\n",
    "data = data.fillna(meancoldata)\n",
    "X_train = data[:train_data.shape[0]]\n",
    "X_train = pd.get_dummies(X_train)"
   ]
  },
  {
   "cell_type": "code",
   "execution_count": 494,
   "metadata": {
    "collapsed": true
   },
   "outputs": [],
   "source": [
    "#from sklearn.preprocessing import StandardScaler\n",
    "#stdsc = StandardScaler()\n",
    "#X_train_std = stdsc.fit_transform(X_train)"
   ]
  },
  {
   "cell_type": "code",
   "execution_count": 510,
   "metadata": {
    "collapsed": false
   },
   "outputs": [],
   "source": [
    "'''New feature selection technique being used'''\n",
    "from sklearn.feature_selection import VarianceThreshold\n",
    "threshold = 0.90\n",
    "selector = VarianceThreshold()\n",
    "selector.fit(X_train)\n",
    "VarThreshold_cols = X_train.columns[selector.variances_ > threshold]"
   ]
  },
  {
   "cell_type": "code",
   "execution_count": 522,
   "metadata": {
    "collapsed": false
   },
   "outputs": [
    {
     "data": {
      "text/plain": [
       "Index([u'LotFrontage', u'LotArea', u'OverallQual', u'OverallCond',\n",
       "       u'YearBuilt', u'YearRemodAdd', u'MasVnrArea', u'BsmtFinSF1',\n",
       "       u'BsmtFinSF2', u'BsmtUnfSF', u'TotalBsmtSF', u'1stFlrSF', u'2ndFlrSF',\n",
       "       u'LowQualFinSF', u'GrLivArea'],\n",
       "      dtype='object')"
      ]
     },
     "execution_count": 522,
     "metadata": {},
     "output_type": "execute_result"
    }
   ],
   "source": [
    "VarThreshold_cols[0:15]"
   ]
  },
  {
   "cell_type": "code",
   "execution_count": 521,
   "metadata": {
    "collapsed": false
   },
   "outputs": [
    {
     "name": "stdout",
     "output_type": "stream",
     "text": [
      "15\n"
     ]
    },
    {
     "data": {
      "text/plain": [
       "array(['OverallQual', 'GrLivArea', 'GarageCars', 'GarageArea',\n",
       "       'TotalBsmtSF', '1stFlrSF', 'ExterQual_TA', 'FullBath', 'YearBuilt',\n",
       "       'YearRemodAdd', 'KitchenQual_TA', 'TotRmsAbvGrd',\n",
       "       'Foundation_PConc', 'ExterQual_Gd', 'GarageYrBlt'], dtype=object)"
      ]
     },
     "execution_count": 521,
     "metadata": {},
     "output_type": "execute_result"
    }
   ],
   "source": [
    "from sklearn.feature_selection import f_regression, SelectKBest\n",
    "X_scored = SelectKBest(score_func=f_regression, k='all').fit(X_train, y_train)\n",
    "feature_scoring = pd.DataFrame({\n",
    "        'feature': X_train.columns,\n",
    "        'score': X_scored.scores_\n",
    "    })\n",
    "\n",
    "feat_scored_15 = feature_scoring.sort_values('score', ascending=False).head(15)['feature'].values\n",
    "print len(feat_scored_15)\n",
    "feat_scored_15"
   ]
  },
  {
   "cell_type": "code",
   "execution_count": 526,
   "metadata": {
    "collapsed": false
   },
   "outputs": [
    {
     "name": "stdout",
     "output_type": "stream",
     "text": [
      "15\n"
     ]
    },
    {
     "data": {
      "text/plain": [
       "array(['BsmtFinSF1', 'BsmtFinSF2', 'BsmtUnfSF', 'TotalBsmtSF', '1stFlrSF',\n",
       "       '2ndFlrSF', 'LowQualFinSF', 'GrLivArea', 'Utilities_AllPub',\n",
       "       'Utilities_NoSeWa', 'KitchenQual_Ex', 'KitchenQual_Fa',\n",
       "       'KitchenQual_Gd', 'KitchenQual_TA', 'GarageQual_Ex'], dtype=object)"
      ]
     },
     "execution_count": 526,
     "metadata": {},
     "output_type": "execute_result"
    }
   ],
   "source": [
    "from sklearn.feature_selection import RFE\n",
    "rfe = RFE(linreg, 15)\n",
    "rfe.fit(X_train, y_train)\n",
    "\n",
    "feature_rfe_scoring = pd.DataFrame({\n",
    "        'feature': X_train.columns,\n",
    "        'score': rfe.ranking_\n",
    "    })\n",
    "\n",
    "feat_rfe_15 = feature_rfe_scoring[feature_rfe_scoring['score'] == 1]['feature'].values\n",
    "print len(feat_rfe_15)\n",
    "feat_rfe_15"
   ]
  },
  {
   "cell_type": "code",
   "execution_count": 528,
   "metadata": {
    "collapsed": false,
    "scrolled": false
   },
   "outputs": [
    {
     "name": "stdout",
     "output_type": "stream",
     "text": [
      "30\n"
     ]
    },
    {
     "data": {
      "text/plain": [
       "array(['1stFlrSF', '2ndFlrSF', 'BsmtFinSF1', 'BsmtFinSF2', 'BsmtUnfSF',\n",
       "       'ExterQual_Gd', 'ExterQual_TA', 'Foundation_PConc', 'FullBath',\n",
       "       'GarageArea', 'GarageCars', 'GarageQual_Ex', 'GarageYrBlt',\n",
       "       'GrLivArea', 'KitchenQual_Ex', 'KitchenQual_Fa', 'KitchenQual_Gd',\n",
       "       'KitchenQual_TA', 'LotArea', 'LotFrontage', 'LowQualFinSF',\n",
       "       'MasVnrArea', 'OverallCond', 'OverallQual', 'TotRmsAbvGrd',\n",
       "       'TotalBsmtSF', 'Utilities_AllPub', 'Utilities_NoSeWa', 'YearBuilt',\n",
       "       'YearRemodAdd'], dtype=object)"
      ]
     },
     "execution_count": 528,
     "metadata": {},
     "output_type": "execute_result"
    }
   ],
   "source": [
    "features = np.hstack([\n",
    "        VarThreshold_cols[0:15], \n",
    "        feat_scored_15,\n",
    "        feat_rfe_15\n",
    "    ])\n",
    "features = np.unique(features)\n",
    "print len(features)\n",
    "features"
   ]
  },
  {
   "cell_type": "code",
   "execution_count": 547,
   "metadata": {
    "collapsed": false,
    "scrolled": false
   },
   "outputs": [
    {
     "name": "stdout",
     "output_type": "stream",
     "text": [
      "29\n",
      "89\n"
     ]
    },
    {
     "data": {
      "text/html": [
       "<div>\n",
       "<table border=\"1\" class=\"dataframe\">\n",
       "  <thead>\n",
       "    <tr style=\"text-align: right;\">\n",
       "      <th></th>\n",
       "      <th>LotFrontage</th>\n",
       "      <th>LotArea</th>\n",
       "      <th>OverallQual</th>\n",
       "      <th>OverallCond</th>\n",
       "      <th>YearBuilt</th>\n",
       "      <th>YearRemodAdd</th>\n",
       "      <th>MasVnrArea</th>\n",
       "      <th>BsmtFinSF1</th>\n",
       "      <th>BsmtFinSF2</th>\n",
       "      <th>BsmtUnfSF</th>\n",
       "      <th>...</th>\n",
       "      <th>Neighborhood_Veenker</th>\n",
       "      <th>SaleType_COD</th>\n",
       "      <th>SaleType_CWD</th>\n",
       "      <th>SaleType_Con</th>\n",
       "      <th>SaleType_ConLD</th>\n",
       "      <th>SaleType_ConLI</th>\n",
       "      <th>SaleType_ConLw</th>\n",
       "      <th>SaleType_New</th>\n",
       "      <th>SaleType_Oth</th>\n",
       "      <th>SaleType_WD</th>\n",
       "    </tr>\n",
       "    <tr>\n",
       "      <th>Id</th>\n",
       "      <th></th>\n",
       "      <th></th>\n",
       "      <th></th>\n",
       "      <th></th>\n",
       "      <th></th>\n",
       "      <th></th>\n",
       "      <th></th>\n",
       "      <th></th>\n",
       "      <th></th>\n",
       "      <th></th>\n",
       "      <th></th>\n",
       "      <th></th>\n",
       "      <th></th>\n",
       "      <th></th>\n",
       "      <th></th>\n",
       "      <th></th>\n",
       "      <th></th>\n",
       "      <th></th>\n",
       "      <th></th>\n",
       "      <th></th>\n",
       "      <th></th>\n",
       "    </tr>\n",
       "  </thead>\n",
       "  <tbody>\n",
       "    <tr>\n",
       "      <th>1</th>\n",
       "      <td>65.0</td>\n",
       "      <td>8450</td>\n",
       "      <td>7</td>\n",
       "      <td>5</td>\n",
       "      <td>2003</td>\n",
       "      <td>2003</td>\n",
       "      <td>196.0</td>\n",
       "      <td>706.0</td>\n",
       "      <td>0.0</td>\n",
       "      <td>150.0</td>\n",
       "      <td>...</td>\n",
       "      <td>0</td>\n",
       "      <td>0</td>\n",
       "      <td>0</td>\n",
       "      <td>0</td>\n",
       "      <td>0</td>\n",
       "      <td>0</td>\n",
       "      <td>0</td>\n",
       "      <td>0</td>\n",
       "      <td>0</td>\n",
       "      <td>1</td>\n",
       "    </tr>\n",
       "    <tr>\n",
       "      <th>2</th>\n",
       "      <td>80.0</td>\n",
       "      <td>9600</td>\n",
       "      <td>6</td>\n",
       "      <td>8</td>\n",
       "      <td>1976</td>\n",
       "      <td>1976</td>\n",
       "      <td>0.0</td>\n",
       "      <td>978.0</td>\n",
       "      <td>0.0</td>\n",
       "      <td>284.0</td>\n",
       "      <td>...</td>\n",
       "      <td>1</td>\n",
       "      <td>0</td>\n",
       "      <td>0</td>\n",
       "      <td>0</td>\n",
       "      <td>0</td>\n",
       "      <td>0</td>\n",
       "      <td>0</td>\n",
       "      <td>0</td>\n",
       "      <td>0</td>\n",
       "      <td>1</td>\n",
       "    </tr>\n",
       "    <tr>\n",
       "      <th>3</th>\n",
       "      <td>68.0</td>\n",
       "      <td>11250</td>\n",
       "      <td>7</td>\n",
       "      <td>5</td>\n",
       "      <td>2001</td>\n",
       "      <td>2002</td>\n",
       "      <td>162.0</td>\n",
       "      <td>486.0</td>\n",
       "      <td>0.0</td>\n",
       "      <td>434.0</td>\n",
       "      <td>...</td>\n",
       "      <td>0</td>\n",
       "      <td>0</td>\n",
       "      <td>0</td>\n",
       "      <td>0</td>\n",
       "      <td>0</td>\n",
       "      <td>0</td>\n",
       "      <td>0</td>\n",
       "      <td>0</td>\n",
       "      <td>0</td>\n",
       "      <td>1</td>\n",
       "    </tr>\n",
       "    <tr>\n",
       "      <th>4</th>\n",
       "      <td>60.0</td>\n",
       "      <td>9550</td>\n",
       "      <td>7</td>\n",
       "      <td>5</td>\n",
       "      <td>1915</td>\n",
       "      <td>1970</td>\n",
       "      <td>0.0</td>\n",
       "      <td>216.0</td>\n",
       "      <td>0.0</td>\n",
       "      <td>540.0</td>\n",
       "      <td>...</td>\n",
       "      <td>0</td>\n",
       "      <td>0</td>\n",
       "      <td>0</td>\n",
       "      <td>0</td>\n",
       "      <td>0</td>\n",
       "      <td>0</td>\n",
       "      <td>0</td>\n",
       "      <td>0</td>\n",
       "      <td>0</td>\n",
       "      <td>1</td>\n",
       "    </tr>\n",
       "    <tr>\n",
       "      <th>5</th>\n",
       "      <td>84.0</td>\n",
       "      <td>14260</td>\n",
       "      <td>8</td>\n",
       "      <td>5</td>\n",
       "      <td>2000</td>\n",
       "      <td>2000</td>\n",
       "      <td>350.0</td>\n",
       "      <td>655.0</td>\n",
       "      <td>0.0</td>\n",
       "      <td>490.0</td>\n",
       "      <td>...</td>\n",
       "      <td>0</td>\n",
       "      <td>0</td>\n",
       "      <td>0</td>\n",
       "      <td>0</td>\n",
       "      <td>0</td>\n",
       "      <td>0</td>\n",
       "      <td>0</td>\n",
       "      <td>0</td>\n",
       "      <td>0</td>\n",
       "      <td>1</td>\n",
       "    </tr>\n",
       "  </tbody>\n",
       "</table>\n",
       "<p>5 rows × 89 columns</p>\n",
       "</div>"
      ],
      "text/plain": [
       "    LotFrontage  LotArea  OverallQual  OverallCond  YearBuilt  YearRemodAdd  \\\n",
       "Id                                                                            \n",
       "1          65.0     8450            7            5       2003          2003   \n",
       "2          80.0     9600            6            8       1976          1976   \n",
       "3          68.0    11250            7            5       2001          2002   \n",
       "4          60.0     9550            7            5       1915          1970   \n",
       "5          84.0    14260            8            5       2000          2000   \n",
       "\n",
       "    MasVnrArea  BsmtFinSF1  BsmtFinSF2  BsmtUnfSF     ...       \\\n",
       "Id                                                    ...        \n",
       "1        196.0       706.0         0.0      150.0     ...        \n",
       "2          0.0       978.0         0.0      284.0     ...        \n",
       "3        162.0       486.0         0.0      434.0     ...        \n",
       "4          0.0       216.0         0.0      540.0     ...        \n",
       "5        350.0       655.0         0.0      490.0     ...        \n",
       "\n",
       "    Neighborhood_Veenker  SaleType_COD  SaleType_CWD  SaleType_Con  \\\n",
       "Id                                                                   \n",
       "1                      0             0             0             0   \n",
       "2                      1             0             0             0   \n",
       "3                      0             0             0             0   \n",
       "4                      0             0             0             0   \n",
       "5                      0             0             0             0   \n",
       "\n",
       "    SaleType_ConLD  SaleType_ConLI  SaleType_ConLw  SaleType_New  \\\n",
       "Id                                                                 \n",
       "1                0               0               0             0   \n",
       "2                0               0               0             0   \n",
       "3                0               0               0             0   \n",
       "4                0               0               0             0   \n",
       "5                0               0               0             0   \n",
       "\n",
       "    SaleType_Oth  SaleType_WD  \n",
       "Id                             \n",
       "1              0            1  \n",
       "2              0            1  \n",
       "3              0            1  \n",
       "4              0            1  \n",
       "5              0            1  \n",
       "\n",
       "[5 rows x 89 columns]"
      ]
     },
     "execution_count": 547,
     "metadata": {},
     "output_type": "execute_result"
    }
   ],
   "source": [
    "allcolumns = data.columns\n",
    "bstFeaturedata = data.copy(deep=True)\n",
    "#sampledata['TotFlrSF'] = data['1stFlrSF'] + data['2ndFlrSF']\n",
    "#for col in ['LotConfig','LandSlope','LotShape','Utilities','LandContour','YearBuilt','SaleType','Neighborhood',\n",
    "#                   'MSSubClass','MiscVal']:\n",
    "categorical = ['LotConfig','LandSlope','LotShape','Utilities','LandContour','YearBuilt','SaleType','Neighborhood',\n",
    "                   'MSSubClass','MiscVal']\n",
    "\n",
    "for col in data.columns:\n",
    "    if col not in features and col not in categorical:\n",
    "        del bstFeaturedata[col]\n",
    "print len(bstFeaturedata.columns)\n",
    "bstFeaturedata = pd.get_dummies(bstFeaturedata)\n",
    "print len(bstFeaturedata.columns)\n",
    "bstFeaturedata.head()"
   ]
  },
  {
   "cell_type": "code",
   "execution_count": null,
   "metadata": {
    "collapsed": true
   },
   "outputs": [],
   "source": [
    "Support Vector Machine can be applied not only to classification problems but also to the case of regression. Still it contains all the main features that characterize maximum margin algorithm: a non-linear function is leaned by linear learning machine mapping into high dimensional kernel induced feature space. The capacity of the system is controlled by parameters that do not depend on the dimensionality of feature space."
   ]
  },
  {
   "cell_type": "code",
   "execution_count": null,
   "metadata": {
    "collapsed": true
   },
   "outputs": [],
   "source": []
  }
 ],
 "metadata": {
  "kernelspec": {
   "display_name": "Python 2",
   "language": "python",
   "name": "python2"
  },
  "language_info": {
   "codemirror_mode": {
    "name": "ipython",
    "version": 2
   },
   "file_extension": ".py",
   "mimetype": "text/x-python",
   "name": "python",
   "nbconvert_exporter": "python",
   "pygments_lexer": "ipython2",
   "version": "2.7.9"
  }
 },
 "nbformat": 4,
 "nbformat_minor": 1
}
